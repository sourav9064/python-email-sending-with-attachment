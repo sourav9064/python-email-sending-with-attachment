{
 "cells": [
  {
   "cell_type": "code",
   "execution_count": 1,
   "metadata": {},
   "outputs": [
    {
     "name": "stdout",
     "output_type": "stream",
     "text": [
      "Mail Sent\n"
     ]
    }
   ],
   "source": [
    "import smtplib, os\n",
    "from email.mime.multipart import MIMEMultipart\n",
    "from email.mime.text import MIMEText\n",
    "from email.mime.base import MIMEBase\n",
    "from email.mime.image import MIMEImage\n",
    "from email import encoders\n",
    "\n",
    "mail_content = '''Hello,\n",
    "This is a test mail.\n",
    "In this mail we are sending some attachments.\n",
    "The mail is sent using Python SMTP library.\n",
    "Thank You\n",
    "'''\n",
    "img_content = '''\n",
    ".jpg\n",
    "'''\n",
    "#The mail addresses and password\n",
    "sender_address = 'sourav.das1498@gmail.com'\n",
    "sender_pass = 'Tula@123'\n",
    "receiver_address = 'sdas121196@gmail.com'\n",
    "#Setup the MIME\n",
    "message = MIMEMultipart()\n",
    "message['From'] = sender_address\n",
    "message['To'] = receiver_address\n",
    "message['Subject'] = 'A test mail sent by Sourav. It has an attachment.'\n",
    "#The subject line\n",
    "#The body and the attachments for the mail\n",
    "\n",
    "attach_img_name = '1.jpg'\n",
    "message.attach(MIMEText(mail_content, 'plain')) #.txt\n",
    "message.attach(MIMEImage(img_content, '.jpg')) #.jpg\n",
    "attach_file_dir = 'C:\\\\Users\\\\HP\\\\DEASYSOFT Tech Pvt Ltd\\\\1st project\\\\database\\\\train_new\\\\Sourav\\\\'\n",
    "#attach_file_name = '102136.pdf'\n",
    "attach_file = open( attach_img_name, 'rb') # Open the file as binary mode\n",
    "payload = MIMEBase('application', 'octate-stream')\n",
    "payload.set_payload((attach_file).read())\n",
    "encoders.encode_base64(payload) #encode the attachment\n",
    "#add payload header with filename\n",
    "payload.add_header('Content-Decomposition', 'attachment', filename=attach_img_name)\n",
    "message.attach(payload)\n",
    "#Create SMTP session for sending the mail\n",
    "session = smtplib.SMTP('smtp.gmail.com', 587) #use gmail with port\n",
    "session.starttls() #enable security\n",
    "session.login(sender_address, sender_pass) #login with mail_id and password\n",
    "text = message.as_string()\n",
    "session.sendmail(sender_address, receiver_address, text)\n",
    "session.quit()\n",
    "print('Mail Sent')\n"
   ]
  },
  {
   "cell_type": "code",
   "execution_count": null,
   "metadata": {},
   "outputs": [],
   "source": []
  },
  {
   "cell_type": "code",
   "execution_count": null,
   "metadata": {},
   "outputs": [],
   "source": [
    "import os\n",
    "import smtplib\n",
    "from email.mime.text import MIMEText\n",
    "from email.mime.image import MIMEImage\n",
    "from email.mime.multipart import MIMEMultipart\n",
    "\n",
    "\n",
    "img_data = open(ImgFileName, 'rb').read()\n",
    "msg = MIMEMultipart()\n",
    "msg['Subject'] = 'image testing'\n",
    "msg['From'] = 'sourav.das1498@gmail.com'\n",
    "msg['To'] = 'sdas121196@gmail.com'\n",
    "\n",
    "text = MIMEText(\"test\")\n",
    "msg.attach(text)\n",
    "image = MIMEImage(img_data, name=os.path.basename(ImgFileName))\n",
    "msg.attach(image)\n",
    "\n",
    "s = smtplib.SMTP(Server, Port)\n",
    "s.ehlo()\n",
    "s.starttls()\n",
    "s.ehlo()\n",
    "s.login(UserName, UserPassword)\n",
    "s.sendmail(From, To, msg.as_string())\n",
    "s.quit()"
   ]
  },
  {
   "cell_type": "code",
   "execution_count": null,
   "metadata": {},
   "outputs": [],
   "source": []
  },
  {
   "cell_type": "code",
   "execution_count": null,
   "metadata": {},
   "outputs": [],
   "source": []
  },
  {
   "cell_type": "code",
   "execution_count": 28,
   "metadata": {},
   "outputs": [
    {
     "name": "stderr",
     "output_type": "stream",
     "text": [
      "send: 'ehlo SOURAV.mshome.net\\r\\n'\n",
      "reply: b'250-smtp.gmail.com at your service, [157.43.212.32]\\r\\n'\n",
      "reply: b'250-SIZE 35882577\\r\\n'\n",
      "reply: b'250-8BITMIME\\r\\n'\n",
      "reply: b'250-STARTTLS\\r\\n'\n",
      "reply: b'250-ENHANCEDSTATUSCODES\\r\\n'\n",
      "reply: b'250-PIPELINING\\r\\n'\n",
      "reply: b'250-CHUNKING\\r\\n'\n",
      "reply: b'250 SMTPUTF8\\r\\n'\n",
      "reply: retcode (250); Msg: b'smtp.gmail.com at your service, [157.43.212.32]\\nSIZE 35882577\\n8BITMIME\\nSTARTTLS\\nENHANCEDSTATUSCODES\\nPIPELINING\\nCHUNKING\\nSMTPUTF8'\n"
     ]
    },
    {
     "ename": "SMTPNotSupportedError",
     "evalue": "SMTP AUTH extension not supported by server.",
     "output_type": "error",
     "traceback": [
      "\u001b[1;31m---------------------------------------------------------------------------\u001b[0m",
      "\u001b[1;31mSMTPNotSupportedError\u001b[0m                     Traceback (most recent call last)",
      "\u001b[1;32m<ipython-input-28-d8fb741ba4ea>\u001b[0m in \u001b[0;36m<module>\u001b[1;34m\u001b[0m\n\u001b[0;32m     37\u001b[0m \u001b[0mserver\u001b[0m \u001b[1;33m=\u001b[0m \u001b[0msmtplib\u001b[0m\u001b[1;33m.\u001b[0m\u001b[0mSMTP\u001b[0m\u001b[1;33m(\u001b[0m\u001b[0msmtp_server\u001b[0m\u001b[1;33m,\u001b[0m \u001b[1;36m587\u001b[0m\u001b[1;33m)\u001b[0m\u001b[1;33m\u001b[0m\u001b[1;33m\u001b[0m\u001b[0m\n\u001b[0;32m     38\u001b[0m \u001b[0mserver\u001b[0m\u001b[1;33m.\u001b[0m\u001b[0mset_debuglevel\u001b[0m\u001b[1;33m(\u001b[0m\u001b[1;36m1\u001b[0m\u001b[1;33m)\u001b[0m\u001b[1;33m\u001b[0m\u001b[1;33m\u001b[0m\u001b[0m\n\u001b[1;32m---> 39\u001b[1;33m \u001b[0mserver\u001b[0m\u001b[1;33m.\u001b[0m\u001b[0mlogin\u001b[0m\u001b[1;33m(\u001b[0m\u001b[0mfrom_addr\u001b[0m\u001b[1;33m,\u001b[0m \u001b[0mpassword\u001b[0m\u001b[1;33m)\u001b[0m\u001b[1;33m\u001b[0m\u001b[1;33m\u001b[0m\u001b[0m\n\u001b[0m\u001b[0;32m     40\u001b[0m \u001b[0mserver\u001b[0m\u001b[1;33m.\u001b[0m\u001b[0msendmail\u001b[0m\u001b[1;33m(\u001b[0m\u001b[0mfrom_addr\u001b[0m\u001b[1;33m,\u001b[0m \u001b[1;33m[\u001b[0m\u001b[0mto_addr\u001b[0m\u001b[1;33m]\u001b[0m\u001b[1;33m,\u001b[0m \u001b[0mmsg\u001b[0m\u001b[1;33m.\u001b[0m\u001b[0mas_string\u001b[0m\u001b[1;33m(\u001b[0m\u001b[1;33m)\u001b[0m\u001b[1;33m)\u001b[0m\u001b[1;33m\u001b[0m\u001b[1;33m\u001b[0m\u001b[0m\n\u001b[0;32m     41\u001b[0m \u001b[0mserver\u001b[0m\u001b[1;33m.\u001b[0m\u001b[0mquit\u001b[0m\u001b[1;33m(\u001b[0m\u001b[1;33m)\u001b[0m\u001b[1;33m\u001b[0m\u001b[1;33m\u001b[0m\u001b[0m\n",
      "\u001b[1;32mC:\\Anaconda3\\envs\\opencv\\lib\\smtplib.py\u001b[0m in \u001b[0;36mlogin\u001b[1;34m(self, user, password, initial_response_ok)\u001b[0m\n\u001b[0;32m    695\u001b[0m         \u001b[1;32mif\u001b[0m \u001b[1;32mnot\u001b[0m \u001b[0mself\u001b[0m\u001b[1;33m.\u001b[0m\u001b[0mhas_extn\u001b[0m\u001b[1;33m(\u001b[0m\u001b[1;34m\"auth\"\u001b[0m\u001b[1;33m)\u001b[0m\u001b[1;33m:\u001b[0m\u001b[1;33m\u001b[0m\u001b[1;33m\u001b[0m\u001b[0m\n\u001b[0;32m    696\u001b[0m             raise SMTPNotSupportedError(\n\u001b[1;32m--> 697\u001b[1;33m                 \"SMTP AUTH extension not supported by server.\")\n\u001b[0m\u001b[0;32m    698\u001b[0m \u001b[1;33m\u001b[0m\u001b[0m\n\u001b[0;32m    699\u001b[0m         \u001b[1;31m# Authentication methods the server claims to support\u001b[0m\u001b[1;33m\u001b[0m\u001b[1;33m\u001b[0m\u001b[1;33m\u001b[0m\u001b[0m\n",
      "\u001b[1;31mSMTPNotSupportedError\u001b[0m: SMTP AUTH extension not supported by server."
     ]
    }
   ],
   "source": [
    "# get user input\n",
    "# input sender email address and password:\n",
    "from_addr = 'sourav.das1498@gmail.com'\n",
    "password = 'Tula@123'\n",
    "# input receiver email address.\n",
    "to_addr = 'sdas121196@gmail.com'\n",
    "# input smtp server ip address:\n",
    "#smtp_server = input('SMTP server: ')\n",
    "\n",
    "# email object that has multiple part:\n",
    "msg = MIMEMultipart()\n",
    "msg['From'] = from_addr\n",
    "msg['To'] = to_addr\n",
    "#msg['Subject'] = Header('hello world from smtp server', 'utf-8').encode()\n",
    "\n",
    "# attache a MIMEText object to save email content\n",
    "msg_content = MIMEText('send with attachment...', 'plain', 'utf-8')\n",
    "msg.attach(msg_content)\n",
    "\n",
    "# to add an attachment is just add a MIMEBase object to read a picture locally.\n",
    "with open('C:/Users/HP/DEASYSOFT Tech Pvt Ltd/1st project/database/train_new/Sourav/1.jpg', 'rb') as f:\n",
    "    # set attachment mime and file name, the image type is png\n",
    "    mime = MIMEBase('image', 'png', filename='1.jpg')\n",
    "    # add required header data:\n",
    "    mime.add_header('Content-Disposition', 'attachment', filename='1.jpg')\n",
    "    mime.add_header('X-Attachment-Id', '0')\n",
    "    mime.add_header('Content-ID', '<0>')\n",
    "    # read attachment file content into the MIMEBase object\n",
    "    mime.set_payload(f.read())\n",
    "    # encode with base64\n",
    "    encoders.encode_base64(mime)\n",
    "    # add MIMEBase object to MIMEMultipart object\n",
    "    msg.attach(mime)\n",
    "\n",
    "#session = smtplib.SMTP('smtp.gmail.com', 587) #use gmail with port\n",
    "smtp_server = 'smtp.gmail.com'#session.starttls() #enable security\n",
    "server = smtplib.SMTP(smtp_server, 587)\n",
    "server.set_debuglevel(1)\n",
    "server.login(from_addr, password)\n",
    "server.sendmail(from_addr, [to_addr], msg.as_string())\n",
    "server.quit()\n"
   ]
  },
  {
   "cell_type": "code",
   "execution_count": null,
   "metadata": {},
   "outputs": [],
   "source": []
  },
  {
   "cell_type": "code",
   "execution_count": null,
   "metadata": {},
   "outputs": [],
   "source": []
  },
  {
   "cell_type": "code",
   "execution_count": 29,
   "metadata": {},
   "outputs": [],
   "source": [
    "import smtplib\n",
    " \n",
    "server = smtplib.SMTP(host='smtp.gmail.com',port=587)"
   ]
  },
  {
   "cell_type": "code",
   "execution_count": 31,
   "metadata": {},
   "outputs": [
    {
     "name": "stdout",
     "output_type": "stream",
     "text": [
      "successfully sent email to sdas121196@gmail.com:\n"
     ]
    }
   ],
   "source": [
    "# import necessary packages\n",
    " \n",
    "from email.mime.multipart import MIMEMultipart\n",
    "from email.mime.text import MIMEText\n",
    "import smtplib\n",
    " \n",
    "# create message object instance\n",
    "msg = MIMEMultipart()\n",
    " \n",
    "message = \"Thank you\"\n",
    " \n",
    "# setup the parameters of the message\n",
    "password = \"Tula@123\"\n",
    "msg['From'] = \"sourav.das1498@gmail.com\"\n",
    "msg['To'] = \"sdas121196@gmail.com\"\n",
    "msg['Subject'] = \"Subscription\"\n",
    "\n",
    "# add in the message body\n",
    "msg.attach(MIMEText(message, 'plain'))\n",
    " \n",
    "#create server\n",
    "server = smtplib.SMTP('smtp.gmail.com: 587')\n",
    "server.starttls()\n",
    " \n",
    "# Login Credentials for sending the mail\n",
    "server.login(msg['From'], password)\n",
    "\n",
    "# send the message via the server\n",
    "server.sendmail(msg['From'], msg['To'], msg.as_string())\n",
    " \n",
    "server.quit()\n",
    " \n",
    "print (\"successfully sent email to %s:\" % (msg['To']))"
   ]
  },
  {
   "cell_type": "code",
   "execution_count": 2,
   "metadata": {},
   "outputs": [
    {
     "name": "stdout",
     "output_type": "stream",
     "text": [
      "successfully sent email to sdas121196@gmail.com:\n"
     ]
    }
   ],
   "source": [
    "# send_attachment.py\n",
    "# import necessary packages\n",
    "from email.mime.multipart import MIMEMultipart\n",
    "from email.mime.image import MIMEImage\n",
    "from email.mime.text import MIMEText\n",
    "import smtplib\n",
    " \n",
    "# create message object instance\n",
    "msg = MIMEMultipart()\n",
    "\n",
    "#message = \"Thank you\"\n",
    "\n",
    "# setup the parameters of the message\n",
    "password = \"Tula@123\"\n",
    "msg['From'] = \"sourav.das1498@gmail.com\"\n",
    "msg['To'] = \"sdas121196@gmail.com\"\n",
    "msg['Subject'] = \"Photos\"\n",
    "message = \"Thank you\"\n",
    "file = \"C:/Users/HP/DEASYSOFT Tech Pvt Ltd/1st project/database/train_new/Sourav/1.jpg\"\n",
    "\n",
    "\n",
    "# attach image to message body\n",
    "fp = open(file, 'rb')\n",
    "img = MIMEImage(fp.read())\n",
    "fp.close()\n",
    "msg.attach(img)\n",
    "msg.attach(MIMEText(message, 'plain'))\n",
    " # create server\n",
    "server = smtplib.SMTP('smtp.gmail.com: 587')\n",
    " \n",
    "server.starttls()\n",
    " \n",
    "# Login Credentials for sending the mail\n",
    "server.login(msg['From'], password)\n",
    " \n",
    "# send the message via the server\n",
    "server.sendmail(msg['From'], msg['To'], msg.as_string())\n",
    " \n",
    "server.quit()\n",
    " \n",
    "print (\"successfully sent email to %s:\" % (msg['To']))"
   ]
  },
  {
   "cell_type": "code",
   "execution_count": null,
   "metadata": {},
   "outputs": [],
   "source": []
  },
  {
   "cell_type": "code",
   "execution_count": null,
   "metadata": {},
   "outputs": [],
   "source": []
  },
  {
   "cell_type": "code",
   "execution_count": null,
   "metadata": {},
   "outputs": [],
   "source": []
  },
  {
   "cell_type": "code",
   "execution_count": null,
   "metadata": {},
   "outputs": [],
   "source": []
  }
 ],
 "metadata": {
  "kernelspec": {
   "display_name": "Python 3",
   "language": "python",
   "name": "python3"
  },
  "language_info": {
   "codemirror_mode": {
    "name": "ipython",
    "version": 3
   },
   "file_extension": ".py",
   "mimetype": "text/x-python",
   "name": "python",
   "nbconvert_exporter": "python",
   "pygments_lexer": "ipython3",
   "version": "3.7.3"
  }
 },
 "nbformat": 4,
 "nbformat_minor": 2
}
