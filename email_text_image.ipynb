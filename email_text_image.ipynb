{
 "cells": [
  {
   "cell_type": "code",
   "execution_count": 1,
   "metadata": {},
   "outputs": [
    {
     "name": "stdout",
     "output_type": "stream",
     "text": [
      "successfully sent email to sdas121196@gmail.com:\n"
     ]
    }
   ],
   "source": [
    "\n",
    "# import necessary packages\n",
    "from email.mime.multipart import MIMEMultipart\n",
    "from email.mime.image import MIMEImage\n",
    "from email.mime.text import MIMEText\n",
    "import smtplib\n",
    " \n",
    "# create message object instance\n",
    "msg = MIMEMultipart()\n",
    "\n",
    "message = \"Thank you\"\n",
    "\n",
    "# setup the parameters of the message\n",
    "password = \"Tula@123\"\n",
    "msg['From'] = \"sourav.das1498@gmail.com\"\n",
    "msg['To'] = \"sdas121196@gmail.com\"\n",
    "msg['Subject'] = \"Photos\"\n",
    "file = \"C:/Users/HP/DEASYSOFT Tech Pvt Ltd/1st project/database/train_new/Sourav/1.jpg\"\n",
    "\n",
    "\n",
    "# attach image to message body\n",
    "fp = open(file, 'rb')\n",
    "img = MIMEImage(fp.read())\n",
    "fp.close()\n",
    "msg.attach(img)\n",
    "msg.attach(MIMEText(message, 'plain'))\n",
    " # create server\n",
    "server = smtplib.SMTP('smtp.gmail.com: 587')\n",
    " \n",
    "server.starttls()\n",
    " \n",
    "# Login Credentials for sending the mail\n",
    "server.login(msg['From'], password)\n",
    " \n",
    "# send the message via the server\n",
    "server.sendmail(msg['From'], msg['To'], msg.as_string())\n",
    " \n",
    "server.quit()\n",
    " \n",
    "print (\"successfully sent email to %s:\" % (msg['To']))"
   ]
  },
  {
   "cell_type": "code",
   "execution_count": null,
   "metadata": {},
   "outputs": [],
   "source": []
  }
 ],
 "metadata": {
  "kernelspec": {
   "display_name": "Python 3",
   "language": "python",
   "name": "python3"
  },
  "language_info": {
   "codemirror_mode": {
    "name": "ipython",
    "version": 3
   },
   "file_extension": ".py",
   "mimetype": "text/x-python",
   "name": "python",
   "nbconvert_exporter": "python",
   "pygments_lexer": "ipython3",
   "version": "3.7.3"
  }
 },
 "nbformat": 4,
 "nbformat_minor": 2
}
