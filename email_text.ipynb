{
 "cells": [
  {
   "cell_type": "code",
   "execution_count": 5,
   "metadata": {},
   "outputs": [],
   "source": [
    "import smtplib, ssl\n",
    "\n",
    "port = 465  # For SSL\n",
    "smtp_server = \"smtp.gmail.com\"\n",
    "password = \"Tula@123\"\n",
    "sender_email = \"sourav.das1498@gmail.com\"  # Enter your address\n",
    "\n",
    "#smtp_server = \"deasysoft.com\"\n",
    "#password = \"Deasysoft@1953\"\n",
    "#sender_email = \"sourav_202021@deasysoft.com\"\n",
    "\n",
    "receiver_email = \"sdas121196@gmail.com\",\"sourav.das2k2k@gmail.com\",\"sourav_202021@deasysoft.com\"  # Enter receiver address\n",
    "\n",
    "message = \"\"\"\\\n",
    "Subject: Hi there\n",
    "\n",
    "Take Care.\"\"\"\n",
    "\n",
    "context = ssl.create_default_context()\n",
    "with smtplib.SMTP_SSL(smtp_server, port, context=context) as server:\n",
    "    server.login(sender_email, password)\n",
    "    server.sendmail(sender_email, receiver_email, message)"
   ]
  },
  {
   "cell_type": "code",
   "execution_count": null,
   "metadata": {},
   "outputs": [],
   "source": []
  }
 ],
 "metadata": {
  "kernelspec": {
   "display_name": "Python 3",
   "language": "python",
   "name": "python3"
  },
  "language_info": {
   "codemirror_mode": {
    "name": "ipython",
    "version": 3
   },
   "file_extension": ".py",
   "mimetype": "text/x-python",
   "name": "python",
   "nbconvert_exporter": "python",
   "pygments_lexer": "ipython3",
   "version": "3.7.3"
  }
 },
 "nbformat": 4,
 "nbformat_minor": 2
}
